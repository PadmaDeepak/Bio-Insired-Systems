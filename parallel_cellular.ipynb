{
  "nbformat": 4,
  "nbformat_minor": 0,
  "metadata": {
    "colab": {
      "provenance": [],
      "authorship_tag": "ABX9TyPAEAcbrd8bdvG7DRSSEXqe",
      "include_colab_link": true
    },
    "kernelspec": {
      "name": "python3",
      "display_name": "Python 3"
    },
    "language_info": {
      "name": "python"
    }
  },
  "cells": [
    {
      "cell_type": "markdown",
      "metadata": {
        "id": "view-in-github",
        "colab_type": "text"
      },
      "source": [
        "<a href=\"https://colab.research.google.com/github/PadmaDeepak/Bio-Insired-Systems/blob/main/parallel_cellular.ipynb\" target=\"_parent\"><img src=\"https://colab.research.google.com/assets/colab-badge.svg\" alt=\"Open In Colab\"/></a>"
      ]
    },
    {
      "cell_type": "code",
      "execution_count": 2,
      "metadata": {
        "colab": {
          "base_uri": "https://localhost:8080/"
        },
        "id": "hMN3fAppZVwH",
        "outputId": "1136c84b-451e-4414-a5f2-ce982fbdc3b2"
      },
      "outputs": [
        {
          "output_type": "stream",
          "name": "stdout",
          "text": [
            "Converged after 10 iterations.\n",
            "Cost Grid (each cell's movement cost):\n",
            "[[6 1 4 4 8]\n",
            " [4 6 3 5 8]\n",
            " [7 9 9 2 7]\n",
            " [8 8 9 2 6]\n",
            " [9 5 4 1 4]]\n",
            "\n",
            "Shortest Distance to Goal (Parallel Cellular Computation):\n",
            "[[ 0.  1.  5.  9. 17.]\n",
            " [ 4.  7.  8. 13. 21.]\n",
            " [11. 16. 17. 15. 22.]\n",
            " [19. 24. 26. 17. 23.]\n",
            " [28. 27. 22. 18. 22.]]\n",
            "\n",
            "Estimated shortest distance from start to goal: 22.00\n"
          ]
        }
      ],
      "source": [
        "import numpy as np\n",
        "\n",
        "# Step 1: Create a small 5x5 grid (each cell is a node)\n",
        "# Random cost for moving from one cell to a neighbor\n",
        "np.random.seed(0)\n",
        "costs = np.random.randint(1, 10, (5, 5))\n",
        "\n",
        "# Step 2: Initialize distance grid\n",
        "# Start point = top-left (0,0)\n",
        "# Goal = bottom-right (4,4)\n",
        "distances = np.full((5, 5), np.inf)\n",
        "distances[0, 0] = 0  # starting point\n",
        "\n",
        "def get_neighbors(i, j, shape):\n",
        "    neighbors = []\n",
        "    for di, dj in [(-1,0),(1,0),(0,-1),(0,1)]:\n",
        "        ni, nj = i+di, j+dj\n",
        "        if 0 <= ni < shape[0] and 0 <= nj < shape[1]:\n",
        "            neighbors.append((ni, nj))\n",
        "    return neighbors\n",
        "\n",
        "# Step 3: Parallel update rule\n",
        "def update_distances(distances, costs):\n",
        "    new_distances = distances.copy()\n",
        "    for i in range(costs.shape[0]):\n",
        "        for j in range(costs.shape[1]):\n",
        "            neighbors = get_neighbors(i, j, costs.shape)\n",
        "            neighbor_values = [distances[x, y] + costs[i, j] for x, y in neighbors]\n",
        "            best_val = min([distances[i, j]] + neighbor_values)\n",
        "            new_distances[i, j] = best_val\n",
        "    return new_distances\n",
        "\n",
        "# Step 4: Iterate until convergence\n",
        "for step in range(10):\n",
        "    new_distances = update_distances(distances, costs)\n",
        "    if np.allclose(new_distances, distances):\n",
        "        print(f\"Converged after {step+1} iterations.\")\n",
        "        break\n",
        "    distances = new_distances\n",
        "\n",
        "# Step 5: Print results\n",
        "print(\"Cost Grid (each cell's movement cost):\")\n",
        "print(costs)\n",
        "print(\"\\nShortest Distance to Goal (Parallel Cellular Computation):\")\n",
        "print(np.round(distances, 2))\n",
        "print(f\"\\nEstimated shortest distance from start to goal: {distances[-1, -1]:.2f}\")\n"
      ]
    }
  ]
}