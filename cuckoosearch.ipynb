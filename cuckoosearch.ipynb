{
  "nbformat": 4,
  "nbformat_minor": 0,
  "metadata": {
    "colab": {
      "provenance": [],
      "authorship_tag": "ABX9TyPAXqZoNNj6h7Rvaa3QWNZt",
      "include_colab_link": true
    },
    "kernelspec": {
      "name": "python3",
      "display_name": "Python 3"
    },
    "language_info": {
      "name": "python"
    }
  },
  "cells": [
    {
      "cell_type": "markdown",
      "metadata": {
        "id": "view-in-github",
        "colab_type": "text"
      },
      "source": [
        "<a href=\"https://colab.research.google.com/github/PadmaDeepak/Bio-Insired-Systems/blob/main/cuckoosearch.ipynb\" target=\"_parent\"><img src=\"https://colab.research.google.com/assets/colab-badge.svg\" alt=\"Open In Colab\"/></a>"
      ]
    },
    {
      "cell_type": "code",
      "execution_count": 1,
      "metadata": {
        "colab": {
          "base_uri": "https://localhost:8080/"
        },
        "id": "xqBJOcXJV--0",
        "outputId": "c0f71df7-58dd-4d45-c203-53c5c5101f6b"
      },
      "outputs": [
        {
          "output_type": "stream",
          "name": "stdout",
          "text": [
            "Initial Best: [1 1 0] Value: 160\n",
            "Iteration 1: Best = [1 0 1], Value = 180\n",
            "Iteration 2: Best = [0 1 1], Value = 220\n",
            "Iteration 3: Best = [0 1 1], Value = 220\n",
            "Iteration 4: Best = [0 1 1], Value = 220\n",
            "Iteration 5: Best = [0 1 1], Value = 220\n",
            "Iteration 6: Best = [0 1 1], Value = 220\n",
            "Iteration 7: Best = [0 1 1], Value = 220\n",
            "Iteration 8: Best = [0 1 1], Value = 220\n",
            "Iteration 9: Best = [0 1 1], Value = 220\n",
            "Iteration 10: Best = [0 1 1], Value = 220\n",
            "Iteration 11: Best = [0 1 1], Value = 220\n",
            "Iteration 12: Best = [0 1 1], Value = 220\n",
            "Iteration 13: Best = [0 1 1], Value = 220\n",
            "Iteration 14: Best = [0 1 1], Value = 220\n",
            "Iteration 15: Best = [0 1 1], Value = 220\n",
            "Iteration 16: Best = [0 1 1], Value = 220\n",
            "Iteration 17: Best = [0 1 1], Value = 220\n",
            "Iteration 18: Best = [0 1 1], Value = 220\n",
            "Iteration 19: Best = [0 1 1], Value = 220\n",
            "Iteration 20: Best = [0 1 1], Value = 220\n",
            "\n",
            "Final Best Solution: [0 1 1]\n",
            "Final Best Value: 220\n"
          ]
        }
      ],
      "source": [
        "import numpy as np\n",
        "import random\n",
        "\n",
        "# --- Problem Setup ---\n",
        "values = [60, 100, 120]       # Example item values\n",
        "weights = [10, 20, 30]        # Item weights\n",
        "capacity = 50                 # Knapsack capacity\n",
        "n_items = len(values)\n",
        "\n",
        "# --- CSA Parameters ---\n",
        "n_nests = 5                   # Number of nests\n",
        "pa = 0.25                     # Discovery probability\n",
        "max_iter = 20                 # Max iterations\n",
        "\n",
        "\n",
        "# Fitness Function (total value, penalize overweight)\n",
        "def fitness(solution):\n",
        "    total_value = np.sum(np.array(values) * solution)\n",
        "    total_weight = np.sum(np.array(weights) * solution)\n",
        "    if total_weight > capacity:  # Penalize infeasible solutions\n",
        "        return -1\n",
        "    return total_value\n",
        "\n",
        "\n",
        "# Levy Flight (generates new candidate solution)\n",
        "def levy_flight(Lambda=1.5):\n",
        "    u = np.random.normal(0, 1)\n",
        "    v = np.random.normal(0, 1)\n",
        "    step = u / (abs(v) ** (1 / Lambda))\n",
        "    return step\n",
        "\n",
        "\n",
        "# Generate new solution using Levy flight\n",
        "def get_new_solution(sol):\n",
        "    new_sol = sol.copy()\n",
        "    for i in range(n_items):\n",
        "        if random.random() < 0.5:  # Apply random mutation\n",
        "            new_sol[i] = 1 - new_sol[i]  # Flip 0↔1\n",
        "    return new_sol\n",
        "\n",
        "\n",
        "# --- Initialization: random nests ---\n",
        "nests = [np.random.randint(0, 2, n_items) for _ in range(n_nests)]\n",
        "fitness_values = [fitness(sol) for sol in nests]\n",
        "\n",
        "best_idx = np.argmax(fitness_values)\n",
        "best_solution = nests[best_idx]\n",
        "best_value = fitness_values[best_idx]\n",
        "\n",
        "print(\"Initial Best:\", best_solution, \"Value:\", best_value)\n",
        "\n",
        "# --- CSA Main Loop ---\n",
        "for gen in range(max_iter):\n",
        "    # Generate new solutions (cuckoo lays eggs)\n",
        "    for i in range(n_nests):\n",
        "        new_sol = get_new_solution(nests[i])\n",
        "        new_fit = fitness(new_sol)\n",
        "        if new_fit > fitness_values[i]:\n",
        "            nests[i] = new_sol\n",
        "            fitness_values[i] = new_fit\n",
        "\n",
        "    # Abandon worst nests with probability pa\n",
        "    for i in range(n_nests):\n",
        "        if random.random() < pa:\n",
        "            nests[i] = np.random.randint(0, 2, n_items)\n",
        "            fitness_values[i] = fitness(nests[i])\n",
        "\n",
        "    # Update best solution\n",
        "    best_idx = np.argmax(fitness_values)\n",
        "    if fitness_values[best_idx] > best_value:\n",
        "        best_solution = nests[best_idx]\n",
        "        best_value = fitness_values[best_idx]\n",
        "\n",
        "    print(f\"Iteration {gen+1}: Best = {best_solution}, Value = {best_value}\")\n",
        "\n",
        "print(\"\\nFinal Best Solution:\", best_solution)\n",
        "print(\"Final Best Value:\", best_value)\n"
      ]
    }
  ]
}