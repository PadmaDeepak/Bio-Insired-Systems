{
  "nbformat": 4,
  "nbformat_minor": 0,
  "metadata": {
    "colab": {
      "provenance": [],
      "authorship_tag": "ABX9TyPJeH782nERNNUZ4lHISOeh",
      "include_colab_link": true
    },
    "kernelspec": {
      "name": "python3",
      "display_name": "Python 3"
    },
    "language_info": {
      "name": "python"
    }
  },
  "cells": [
    {
      "cell_type": "markdown",
      "metadata": {
        "id": "view-in-github",
        "colab_type": "text"
      },
      "source": [
        "<a href=\"https://colab.research.google.com/github/PadmaDeepak/Bio-Insired-Systems/blob/main/pso.ipynb\" target=\"_parent\"><img src=\"https://colab.research.google.com/assets/colab-badge.svg\" alt=\"Open In Colab\"/></a>"
      ]
    },
    {
      "cell_type": "code",
      "execution_count": 1,
      "metadata": {
        "colab": {
          "base_uri": "https://localhost:8080/"
        },
        "id": "2uXyvHaKDjbI",
        "outputId": "92dd69b0-b437-475b-fa16-94c9a078c85a"
      },
      "outputs": [
        {
          "output_type": "stream",
          "name": "stdout",
          "text": [
            "Initial Particles: [-5.441188949765778, 6.560463366019963, -7.232596510359306, -5.033426231716083, -0.1590189832068276, -8.234349496077279, 0.13971336632215525, 8.34296898762139, -2.509020400974073, 5.113645578527253]\n",
            "Initial gbest = 0.13971336632215525 f(gbest) = 20.679047006881706\n",
            "------------------------------------------------------------\n",
            "Iteration 1: gbest = 1.6501, f(gbest) = 25.5277\n",
            "Iteration 2: gbest = 2.1899, f(gbest) = 26.1538\n",
            "Iteration 3: gbest = 2.3260, f(gbest) = 26.2197\n",
            "Iteration 4: gbest = 2.6372, f(gbest) = 26.2312\n",
            "Iteration 5: gbest = 2.4228, f(gbest) = 26.2440\n",
            "------------------------------------------------------------\n",
            "Final Solution:\n",
            "Best position (x) = 2.4228\n",
            "Best value f(x)   = 26.2440\n"
          ]
        }
      ],
      "source": [
        "import random\n",
        "\n",
        "# Objective function (maximize f(x))\n",
        "def fitness(x):\n",
        "    return -x**2 + 5*x + 20\n",
        "\n",
        "# PSO parameters\n",
        "num_particles = 10\n",
        "max_iterations = 5   # run only 5 iterations for demonstration\n",
        "w = 0.5      # inertia weight\n",
        "c1 = 1.5     # cognitive factor\n",
        "c2 = 1.5     # social factor\n",
        "\n",
        "# Initialize particles\n",
        "particles = [random.uniform(-10, 10) for _ in range(num_particles)]  # positions\n",
        "velocities = [0.0 for _ in range(num_particles)]\n",
        "pbest = particles[:]  # personal best positions\n",
        "pbest_values = [fitness(x) for x in particles]\n",
        "gbest = pbest[pbest_values.index(max(pbest_values))]  # global best\n",
        "\n",
        "print(\"Initial Particles:\", particles)\n",
        "print(\"Initial gbest =\", gbest, \"f(gbest) =\", fitness(gbest))\n",
        "print(\"-\"*60)\n",
        "\n",
        "# Run PSO\n",
        "for iteration in range(max_iterations):\n",
        "    for i in range(num_particles):\n",
        "        # Update velocity\n",
        "        r1, r2 = random.random(), random.random()\n",
        "        velocities[i] = (w*velocities[i]\n",
        "                         + c1*r1*(pbest[i] - particles[i])\n",
        "                         + c2*r2*(gbest - particles[i]))\n",
        "\n",
        "        # Update position\n",
        "        particles[i] += velocities[i]\n",
        "\n",
        "        # Evaluate new position\n",
        "        value = fitness(particles[i])\n",
        "\n",
        "        # Update personal best\n",
        "        if value > pbest_values[i]:\n",
        "            pbest[i] = particles[i]\n",
        "            pbest_values[i] = value\n",
        "\n",
        "    # Update global best\n",
        "    best_value = max(pbest_values)\n",
        "    if best_value > fitness(gbest):\n",
        "        gbest = pbest[pbest_values.index(best_value)]\n",
        "\n",
        "    # Print iteration summary\n",
        "    print(f\"Iteration {iteration+1}: gbest = {gbest:.4f}, f(gbest) = {fitness(gbest):.4f}\")\n",
        "\n",
        "print(\"-\"*60)\n",
        "print(\"Final Solution:\")\n",
        "print(f\"Best position (x) = {gbest:.4f}\")\n",
        "print(f\"Best value f(x)   = {fitness(gbest):.4f}\")\n"
      ]
    }
  ]
}