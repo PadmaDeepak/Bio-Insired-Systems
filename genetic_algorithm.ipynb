{
  "nbformat": 4,
  "nbformat_minor": 0,
  "metadata": {
    "colab": {
      "provenance": [],
      "authorship_tag": "ABX9TyOaQAhpnVqS6TYKmClQHZf+",
      "include_colab_link": true
    },
    "kernelspec": {
      "name": "python3",
      "display_name": "Python 3"
    },
    "language_info": {
      "name": "python"
    }
  },
  "cells": [
    {
      "cell_type": "markdown",
      "metadata": {
        "id": "view-in-github",
        "colab_type": "text"
      },
      "source": [
        "<a href=\"https://colab.research.google.com/github/PadmaDeepak/Bio-Insired-Systems/blob/main/genetic_algorithm.ipynb\" target=\"_parent\"><img src=\"https://colab.research.google.com/assets/colab-badge.svg\" alt=\"Open In Colab\"/></a>"
      ]
    },
    {
      "cell_type": "code",
      "execution_count": 3,
      "metadata": {
        "colab": {
          "base_uri": "https://localhost:8080/"
        },
        "id": "YT4efFHoypeh",
        "outputId": "997b97ed-c3b9-4842-8437-c32f87b08c34"
      },
      "outputs": [
        {
          "output_type": "stream",
          "name": "stdout",
          "text": [
            "Best solution: x = 0.85380, f(x) = 1.84773\n"
          ]
        }
      ],
      "source": [
        "import random\n",
        "import math\n",
        "\n",
        "# 1. Define the fitness function\n",
        "def fitness(x):\n",
        "  return x * math.sin(10 * math.pi * x) + 1.0 # x ∈ [0,1]\n",
        "\n",
        "# 2. Parameters\n",
        "POP_SIZE = 50\n",
        "MUTATION_RATE = 0.1\n",
        "CROSSOVER_RATE = 0.9\n",
        "GENERATIONS = 100\n",
        "\n",
        "# 3. Create initial population (x in [0, 1])\n",
        "def create_population(size):\n",
        "  return [random.uniform(0, 1) for _ in range(size)]\n",
        "\n",
        "# 4. Evaluate fitness of population\n",
        "def evaluate_population(population):\n",
        "  return [fitness(ind) for ind in population]\n",
        "\n",
        "# 5. Select two parents via tournament selection\n",
        "def select_parents(population, fitnesses):\n",
        "  def tournament():\n",
        "    i, j = random.sample(range(len(population)), 2)\n",
        "    return population[i] if fitnesses[i] > fitnesses[j] else population[j]\n",
        "  return tournament(), tournament()\n",
        "\n",
        "# 6. Crossover: Blend two parents\n",
        "def crossover(p1, p2):\n",
        "  if random.random() < CROSSOVER_RATE:\n",
        "    alpha = random.random()\n",
        "    return alpha * p1 + (1 - alpha) * p2\n",
        "  return p1 # No crossover\n",
        "\n",
        "# 7. Mutation: Small random change\n",
        "def mutate(individual):\n",
        "  if random.random() < MUTATION_RATE:\n",
        "    mutation_strength = 0.1\n",
        "    individual += random.uniform(-mutation_strength, mutation_strength)\n",
        "    individual = max(0, min(1, individual)) # Ensure within [0,1]\n",
        "  return individual\n",
        "\n",
        "# 8. Run GA\n",
        "def genetic_algorithm():\n",
        "  population = create_population(POP_SIZE)\n",
        "  best_individual = None\n",
        "  best_fitness = -float('inf')\n",
        "\n",
        "  for generation in range(GENERATIONS):\n",
        "    fitnesses = evaluate_population(population)\n",
        "\n",
        "# Track best individual\n",
        "  for i in range(len(population)):\n",
        "    if fitnesses[i] > best_fitness:\n",
        "      best_fitness = fitnesses[i]\n",
        "      best_individual = population[i]\n",
        "\n",
        "# Create new generation\n",
        "  new_population = []\n",
        "  while len(new_population) < POP_SIZE:\n",
        "    parent1, parent2 = select_parents(population, fitnesses)\n",
        "    child = crossover(parent1, parent2)\n",
        "    hild = mutate(child)\n",
        "    new_population.append(child)\n",
        "\n",
        "  population = new_population\n",
        "\n",
        "  print(f\"Best solution: x = {best_individual:.5f}, f(x) = {best_fitness:.5f}\")\n",
        "\n",
        "# 9. Run the algorithm\n",
        "genetic_algorithm()\n"
      ]
    }
  ]
}