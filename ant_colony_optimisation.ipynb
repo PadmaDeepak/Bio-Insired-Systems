{
  "nbformat": 4,
  "nbformat_minor": 0,
  "metadata": {
    "colab": {
      "provenance": [],
      "authorship_tag": "ABX9TyP4rGO0e50TjykskusdQS7O",
      "include_colab_link": true
    },
    "kernelspec": {
      "name": "python3",
      "display_name": "Python 3"
    },
    "language_info": {
      "name": "python"
    }
  },
  "cells": [
    {
      "cell_type": "markdown",
      "metadata": {
        "id": "view-in-github",
        "colab_type": "text"
      },
      "source": [
        "<a href=\"https://colab.research.google.com/github/PadmaDeepak/Bio-Insired-Systems/blob/main/ant_colony_optimisation.ipynb\" target=\"_parent\"><img src=\"https://colab.research.google.com/assets/colab-badge.svg\" alt=\"Open In Colab\"/></a>"
      ]
    },
    {
      "cell_type": "code",
      "execution_count": 2,
      "metadata": {
        "colab": {
          "base_uri": "https://localhost:8080/"
        },
        "id": "EPTg9mgY-OeV",
        "outputId": "cb25b034-0676-428d-e91f-3c4cb0a628f9"
      },
      "outputs": [
        {
          "output_type": "stream",
          "name": "stdout",
          "text": [
            "Iteration 1: Best length = 241.05, Path = 0 -> 5 -> 3 -> 1 -> 4 -> 2\n",
            "Iteration 2: Best length = 241.05, Path = 0 -> 5 -> 3 -> 1 -> 4 -> 2\n",
            "Iteration 3: Best length = 241.05, Path = 0 -> 5 -> 3 -> 1 -> 4 -> 2\n",
            "Iteration 4: Best length = 241.05, Path = 0 -> 5 -> 3 -> 1 -> 4 -> 2\n",
            "Iteration 5: Best length = 241.05, Path = 0 -> 5 -> 3 -> 1 -> 4 -> 2\n",
            "\n",
            "Final Best Tour: [0, 5, 3, 1, 4, 2]\n",
            "Final Best Length: 241.0459874097049\n"
          ]
        }
      ],
      "source": [
        "import numpy as np\n",
        "import random\n",
        "\n",
        "# ----- Setup -----\n",
        "cities = np.random.rand(6, 2) * 100   # 6 random cities\n",
        "n = len(cities)\n",
        "\n",
        "# Distance matrix\n",
        "dist = np.sqrt(((cities[:, None] - cities[None, :])**2).sum(axis=2))\n",
        "eta = 1 / (dist + 1e-6)   # heuristic (1/distance)\n",
        "tau = np.ones((n, n))     # pheromone matrix\n",
        "\n",
        "# Parameters\n",
        "n_ants = 10\n",
        "alpha, beta = 1, 5\n",
        "rho = 0.5     # evaporation rate\n",
        "Q = 100\n",
        "iters = 5     # reduced iterations\n",
        "\n",
        "def tour_length(tour):\n",
        "    return sum(dist[tour[i], tour[i+1]] for i in range(n-1)) + dist[tour[-1], tour[0]]\n",
        "\n",
        "# ----- Main Loop -----\n",
        "best_tour, best_len = None, float('inf')\n",
        "\n",
        "for it in range(iters):\n",
        "    tours = []\n",
        "\n",
        "    for _ in range(n_ants):\n",
        "        start = random.randrange(n)\n",
        "        tour = [start]\n",
        "        unvisited = set(range(n)) - {start}\n",
        "\n",
        "        while unvisited:\n",
        "            i = tour[-1]\n",
        "            probs = [(j, (tau[i, j]**alpha) * (eta[i, j]**beta)) for j in unvisited]\n",
        "            total = sum(p for _, p in probs)\n",
        "            r, cum = random.random(), 0\n",
        "            for j, p in probs:\n",
        "                cum += p / total\n",
        "                if r <= cum:\n",
        "                    tour.append(j)\n",
        "                    unvisited.remove(j)\n",
        "                    break\n",
        "\n",
        "        tours.append((tour, tour_length(tour)))\n",
        "\n",
        "    # Update best\n",
        "    tours.sort(key=lambda x: x[1])\n",
        "    if tours[0][1] < best_len:\n",
        "        best_tour, best_len = tours[0]\n",
        "\n",
        "    # Pheromone update\n",
        "    tau *= (1 - rho)\n",
        "    for tour, L in tours[:3]:   # top 3 ants reinforce\n",
        "        for i in range(n):\n",
        "            a, b = tour[i], tour[(i+1) % n]\n",
        "            tau[a, b] += Q / L\n",
        "            tau[b, a] += Q / L\n",
        "\n",
        "    # Print result for this iteration\n",
        "    path = \" -> \".join(str(c) for c in best_tour)\n",
        "    print(f\"Iteration {it+1}: Best length = {best_len:.2f}, Path = {path}\")\n",
        "\n",
        "print(\"\\nFinal Best Tour:\", best_tour)\n",
        "print(\"Final Best Length:\", best_len)\n"
      ]
    }
  ]
}